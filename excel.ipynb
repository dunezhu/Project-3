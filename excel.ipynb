{
  "nbformat": 4,
  "nbformat_minor": 0,
  "metadata": {
    "colab": {
      "provenance": [],
      "authorship_tag": "ABX9TyOIJ9xMS71HZ0Mjo+vLjX10"
    },
    "kernelspec": {
      "name": "python3",
      "display_name": "Python 3"
    },
    "language_info": {
      "name": "python"
    }
  },
  "cells": [
    {
      "cell_type": "code",
      "source": [
        "# First, install the openpyxl library\n",
        "!pip install openpyxl\n",
        "\n",
        "# Import the necessary libraries\n",
        "from google.colab import files\n",
        "import openpyxl\n",
        "\n",
        "# Select the Excel file to upload from Local Machine \n",
        "uploaded = files.upload()\n",
        "\n",
        "#CHANGE THE GOOGLE SHEET NAME WITH EACH DOWNLOAD TO LOCAL MACHINE AS COLAB SAVES PREVIOUS NAME IN MEMORY"
      ],
      "metadata": {
        "id": "nL375ingpxZH"
      },
      "execution_count": null,
      "outputs": []
    },
    {
      "cell_type": "code",
      "source": [
        "# Read the file into a Pandas DataFrame\n",
        "import pandas as pd\n",
        "df = pd.read_excel(list(uploaded.keys())[0])\n",
        "print(df)"
      ],
      "metadata": {
        "id": "34shCD0I-Arg"
      },
      "execution_count": null,
      "outputs": []
    },
    {
      "cell_type": "code",
      "source": [
        "# Open the workbook - update name as needed\n",
        "wb = openpyxl.load_workbook('data#1.xlsx')\n",
        "\n",
        "# Select the sheet\n",
        "sheet = wb['data']\n",
        "\n",
        "# Access a cell\n",
        "cell = sheet['B2']\n",
        "\n",
        "# Modify the value in the cell\n",
        "cell.value = 'zeroth'\n",
        "\n",
        "#THIS UPDATES VALUES FOR A SELECTED CELL"
      ],
      "metadata": {
        "id": "Nlt2aH21zlma"
      },
      "execution_count": null,
      "outputs": []
    },
    {
      "cell_type": "code",
      "source": [
        "# Save the changes to the workbook - update name as needed\n",
        "wb.save('data#1.xlsx')"
      ],
      "metadata": {
        "id": "vntiDAvGzHK4"
      },
      "execution_count": null,
      "outputs": []
    },
    {
      "cell_type": "code",
      "source": [
        "# Load the workbook - update name as needed\n",
        "wb = openpyxl.load_workbook('data#1.xlsx')\n",
        "\n",
        "# Select the sheet\n",
        "sheet = wb['data']\n",
        "\n",
        "# Iterate through the rows in the sheet\n",
        "for row in sheet.rows:\n",
        "  # Iterate through the cells in the row\n",
        "  for cell in row:\n",
        "    # Check if the cell value is equal to the word we want to update\n",
        "    if cell.value == 'zeroth':\n",
        "      # If it is, set the cell value to a new string\n",
        "      cell.value = 'the zeroth'\n",
        "\n",
        "#THIS FINDS AND REPLACES VALUES  "
      ],
      "metadata": {
        "id": "Hmn-0C37tkaA"
      },
      "execution_count": null,
      "outputs": []
    },
    {
      "cell_type": "code",
      "source": [
        "# Load the workbook - update name as needed\n",
        "wb = openpyxl.load_workbook('data#1.xlsx')\n",
        "\n",
        "# Select the sheet\n",
        "sheet = wb['data']\n",
        "\n",
        "# Iterate through the rows in the sheet\n",
        "for row in sheet.rows:\n",
        "  # Iterate through the cells in the row\n",
        "  for cell in row:\n",
        "    # Check if the cell value is a string\n",
        "    if isinstance(cell.value, str):\n",
        "      # Replace the word \"old\" with \"new\" in the cell value\n",
        "      cell.value = cell.value.replace(\"this is the zero\", \"this is the zeroth\")\n",
        "\n",
        "#THIS UPDATES WORDS IN STRING (SENTENCES) "
      ],
      "metadata": {
        "id": "DaAqQGFa6Lrx"
      },
      "execution_count": null,
      "outputs": []
    },
    {
      "cell_type": "code",
      "source": [
        "# Read the file into a Pandas DataFrame\n",
        "df = pd.read_excel(list(uploaded.keys())[0])\n",
        "print(df)\n",
        "\n",
        "# Save the modified DataFrame to a new Excel file\n",
        "df.to_excel('modified.xlsx', index=False)\n",
        "\n",
        "# Download the modified Excel file\n",
        "files.download('modified.xlsx')\n",
        "\n",
        "#THIS SAVES THE EXCEL TO A NEW EXCEL"
      ],
      "metadata": {
        "id": "7ImE4KE8mPzW"
      },
      "execution_count": null,
      "outputs": []
    }
  ]
}